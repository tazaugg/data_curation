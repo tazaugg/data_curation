{
 "cells": [
  {
   "cell_type": "code",
   "execution_count": 2,
   "metadata": {},
   "outputs": [],
   "source": [
    "import requests\n",
    "from bs4 import BeautifulSoup\n",
    "import pandas as pd"
   ]
  },
  {
   "cell_type": "code",
   "execution_count": 22,
   "metadata": {},
   "outputs": [
    {
     "name": "stdout",
     "output_type": "stream",
     "text": [
      "          Country Democracy index value Democracy classification\n",
      "0         Denmark                 0.958        Working Democracy\n",
      "1          Norway                 0.956        Working Democracy\n",
      "2         Finland                 0.946        Working Democracy\n",
      "3          Sweden                 0.946        Working Democracy\n",
      "4         Germany                 0.944        Working Democracy\n",
      "..            ...                   ...                      ...\n",
      "171         China                 0.048           Hard Autocracy\n",
      "172  Saudi Arabia                 0.048           Hard Autocracy\n",
      "173         Yemen                 0.041           Hard Autocracy\n",
      "174   North Korea                 0.029           Hard Autocracy\n",
      "175       Eritrea                 0.017           Hard Autocracy\n",
      "\n",
      "[176 rows x 3 columns]\n"
     ]
    }
   ],
   "source": [
    "url1 = 'https://www.democracymatrix.com/ranking'\n",
    "\n",
    "response = requests.get(url1)\n",
    "\n",
    "soup = BeautifulSoup(response.text, 'html.parser')\n",
    "\n",
    "table = soup.find('table')\n",
    "\n",
    "headers = [th.text.strip() for th in table.find_all('th')]\n",
    "\n",
    "rows = []\n",
    "for row in table.find_all('tr'):\n",
    "    rows.append([td.text.strip() for td in row.find_all('td')])\n",
    "\n",
    "democracy = pd.DataFrame(rows[1:], columns=headers)\n",
    "democracy.columns=['democracy rank','Country','Democracy index value','Democracy classification']\n",
    "democracy=democracy[['Country','Democracy index value','Democracy classification']]\n",
    "country_name_mapping = {\n",
    "    \"United States of America\": \"United States\",\n",
    "    \"Congo, Republic\": \"Congo\",\n",
    "    \"Congo, Democratic Republic\": \"DR Congo\",\n",
    "    \"Vietnam, Democratic Republic\": \"Vietnam\",\n",
    "    \"Burma/Myanmar\":\"Myanmar\",\n",
    "    \"Czech Republic\":\"Czech Republic (Czechia)\",\n",
    "    \"The Gambia\": \"Gambia\",\n",
    "    \"São Tomé and Príncipe\":\"Sao Tome & Principe\"\n",
    "}\n",
    "democracy['Country'] = democracy['Country'].replace(country_name_mapping)\n",
    "print(democracy)"
   ]
  },
  {
   "cell_type": "code",
   "execution_count": 4,
   "metadata": {},
   "outputs": [
    {
     "name": "stdout",
     "output_type": "stream",
     "text": [
      "              Country Population(2023) Density(p/Km^2) Area(Km^2)  \\\n",
      "0               India    1,428,627,663             481  2,973,190   \n",
      "1               China    1,425,671,352             152  9,388,211   \n",
      "2       United States      339,996,563              37  9,147,420   \n",
      "3           Indonesia      277,534,122             153  1,811,570   \n",
      "4            Pakistan      240,485,658             312    770,880   \n",
      "..                ...              ...             ...        ...   \n",
      "229        Montserrat            4,386              44        100   \n",
      "230  Falkland Islands            3,791               0     12,170   \n",
      "231              Niue            1,935               7        260   \n",
      "232           Tokelau            1,893             189         10   \n",
      "233          Holy See              518           1,295          0   \n",
      "\n",
      "    Migration(Net) Fertility  \n",
      "0         -486,136       2.0  \n",
      "1         -310,220       1.2  \n",
      "2          999,700       1.7  \n",
      "3          -49,997       2.1  \n",
      "4         -165,988       3.3  \n",
      "..             ...       ...  \n",
      "229              0       1.6  \n",
      "230              0       1.6  \n",
      "231              0       2.4  \n",
      "232              0       2.6  \n",
      "233              0            \n",
      "\n",
      "[234 rows x 6 columns]\n"
     ]
    }
   ],
   "source": [
    "url2 = 'https://www.worldometers.info/world-population/population-by-country/'\n",
    "\n",
    "response = requests.get(url2)\n",
    "\n",
    "soup = BeautifulSoup(response.text, 'html.parser')\n",
    "\n",
    "table = soup.find('table', {'id': 'example2'})\n",
    "\n",
    "headers = [th.text.strip() for th in table.find_all('th')]\n",
    "\n",
    "rows = []\n",
    "for row in table.find_all('tr'):\n",
    "    rows.append([td.text.strip() for td in row.find_all('td')])\n",
    "\n",
    "pop= pd.DataFrame(rows[1:], columns=headers)\n",
    "pop.columns=['pop rank','Country','Population(2023)','change(year)','change(net)','Density(p/Km^2)','Area(Km^2)','Migration(Net)','Fertility','median age','percent urban','percent world']\n",
    "pop=pop[['Country','Population(2023)','Density(p/Km^2)','Area(Km^2)','Migration(Net)','Fertility']]\n",
    "print(pop)"
   ]
  },
  {
   "cell_type": "code",
   "execution_count": 5,
   "metadata": {},
   "outputs": [
    {
     "name": "stdout",
     "output_type": "stream",
     "text": [
      "          Country GDP PPP per captita Nominal GDP per capita\n",
      "0      Luxembourg            $142,214               $127,046\n",
      "1       Singapore            $127,565                $78,115\n",
      "2         Ireland            $126,905               $105,362\n",
      "3          Norway            $114,899               $106,594\n",
      "4           Qatar            $114,648                $88,046\n",
      "..            ...                 ...                    ...\n",
      "185          Cuba                N.A.                     $0\n",
      "186         Tonga                N.A.                     $0\n",
      "187         Yemen                N.A.                     $0\n",
      "188         Aruba                N.A.                     $0\n",
      "189  Turkmenistan                N.A.                     $0\n",
      "\n",
      "[190 rows x 3 columns]\n"
     ]
    }
   ],
   "source": [
    "url3 = 'https://www.worldometers.info/gdp/gdp-per-capita/'\n",
    "\n",
    "response = requests.get(url3)\n",
    "\n",
    "soup = BeautifulSoup(response.text, 'html.parser')\n",
    "\n",
    "table = soup.find('table', {'id': 'example2'})\n",
    "\n",
    "headers = [th.text.strip() for th in table.find_all('th')]\n",
    "\n",
    "rows = []\n",
    "for row in table.find_all('tr'):\n",
    "    rows.append([td.text.strip() for td in row.find_all('td')])\n",
    "\n",
    "gdp= pd.DataFrame(rows[1:], columns=headers)\n",
    "gdp.columns=['gdp rank','Country','GDP PPP per captita','Nominal GDP per capita','vs world']\n",
    "gdp=gdp[['Country','GDP PPP per captita','Nominal GDP per capita']]\n",
    "print(gdp)"
   ]
  },
  {
   "cell_type": "code",
   "execution_count": 12,
   "metadata": {},
   "outputs": [
    {
     "name": "stdout",
     "output_type": "stream",
     "text": [
      "                      Country Total Life expectancy Female Life Expectancy  \\\n",
      "0                   Hong Kong                 85.83                  88.66   \n",
      "1                       Macao                 85.51                  88.11   \n",
      "2                       Japan                 84.95                  87.97   \n",
      "3                 Switzerland                 84.38                  86.05   \n",
      "4                   Singapore                 84.27                  86.42   \n",
      "..                        ...                   ...                    ...   \n",
      "196               South Sudan                 56.51                  57.97   \n",
      "197  Central African Republic                 55.48                  57.68   \n",
      "198                   Lesotho                 54.91                  57.82   \n",
      "199                   Nigeria                 53.87                  54.24   \n",
      "200                      Chad                 53.68                  55.41   \n",
      "\n",
      "    Male Life Expectancy  \n",
      "0                  83.00  \n",
      "1                  82.88  \n",
      "2                  81.91  \n",
      "3                  82.63  \n",
      "4                  82.13  \n",
      "..                   ...  \n",
      "196                54.99  \n",
      "197                53.38  \n",
      "198                52.12  \n",
      "199                53.51  \n",
      "200                52.01  \n",
      "\n",
      "[201 rows x 4 columns]\n"
     ]
    }
   ],
   "source": [
    "url4 = 'https://www.worldometers.info/demographics/life-expectancy/'\n",
    "\n",
    "response = requests.get(url4)\n",
    "\n",
    "soup = BeautifulSoup(response.text, 'html.parser')\n",
    "\n",
    "table = soup.find('table', {'id': 'example2'})\n",
    "\n",
    "headers = [th.text.strip() for th in table.find_all('th')]\n",
    "\n",
    "rows = []\n",
    "for row in table.find_all('tr'):\n",
    "    rows.append([td.text.strip() for td in row.find_all('td')])\n",
    "\n",
    "life= pd.DataFrame(rows[1:], columns=headers)\n",
    "life.columns=['rank expectancy','Country','Total Life expectancy','Female Life Expectancy','Male Life Expectancy']\n",
    "life=life[['Country','Total Life expectancy','Female Life Expectancy','Male Life Expectancy']]\n",
    "print(life)"
   ]
  },
  {
   "cell_type": "code",
   "execution_count": 23,
   "metadata": {},
   "outputs": [
    {
     "name": "stdout",
     "output_type": "stream",
     "text": [
      "              Country Democracy index value Democracy classification  \\\n",
      "0             Denmark                 0.958        Working Democracy   \n",
      "1              Norway                 0.956        Working Democracy   \n",
      "2             Finland                 0.946        Working Democracy   \n",
      "3              Sweden                 0.946        Working Democracy   \n",
      "4             Germany                 0.944        Working Democracy   \n",
      "..                ...                   ...                      ...   \n",
      "236        Montserrat                   NaN                      NaN   \n",
      "237  Falkland Islands                   NaN                      NaN   \n",
      "238              Niue                   NaN                      NaN   \n",
      "239           Tokelau                   NaN                      NaN   \n",
      "240          Holy See                   NaN                      NaN   \n",
      "\n",
      "    Population(2023) Density(p/Km^2) Area(Km^2) Migration(Net) Fertility  \\\n",
      "0          5,910,913             139     42,430         19,999       1.7   \n",
      "1          5,474,360              15    365,268         27,998       1.5   \n",
      "2          5,545,475              18    303,890         13,999       1.4   \n",
      "3         10,612,086              26    410,340         39,998       1.7   \n",
      "4         83,294,633             239    348,560        155,751       1.5   \n",
      "..               ...             ...        ...            ...       ...   \n",
      "236            4,386              44        100              0       1.6   \n",
      "237            3,791               0     12,170              0       1.6   \n",
      "238            1,935               7        260              0       2.4   \n",
      "239            1,893             189         10              0       2.6   \n",
      "240              518           1,295          0              0             \n",
      "\n",
      "    GDP PPP per captita Nominal GDP per capita Total Life expectancy  \\\n",
      "0               $74,005                $67,220                 82.03   \n",
      "1              $114,899               $106,594                 83.55   \n",
      "2               $59,027                $50,684                 82.52   \n",
      "3               $64,578                $55,543                 83.65   \n",
      "4               $63,150                $48,845                 82.18   \n",
      "..                  ...                    ...                   ...   \n",
      "236                 NaN                    NaN                   NaN   \n",
      "237                 NaN                    NaN                   NaN   \n",
      "238                 NaN                    NaN                   NaN   \n",
      "239                 NaN                    NaN                   NaN   \n",
      "240                 NaN                    NaN                   NaN   \n",
      "\n",
      "    Female Life Expectancy Male Life Expectancy  \n",
      "0                    83.92                80.14  \n",
      "1                    85.17                81.91  \n",
      "2                    85.00                80.01  \n",
      "3                    85.22                82.08  \n",
      "4                    84.44                79.90  \n",
      "..                     ...                  ...  \n",
      "236                    NaN                  NaN  \n",
      "237                    NaN                  NaN  \n",
      "238                    NaN                  NaN  \n",
      "239                    NaN                  NaN  \n",
      "240                    NaN                  NaN  \n",
      "\n",
      "[241 rows x 13 columns]\n"
     ]
    }
   ],
   "source": [
    "\n",
    "democracy_pop = pd.merge(democracy, pop, on='Country', how='outer')\n",
    "\n",
    "gdp_life = pd.merge(gdp, life, on='Country', how='outer')\n",
    "\n",
    "merged_table = pd.merge(democracy_pop, gdp_life, on='Country', how='outer')\n",
    "\n",
    "print(merged_table)\n",
    "merged_table.to_csv('merged.csv',index=False)"
   ]
  },
  {
   "cell_type": "code",
   "execution_count": null,
   "metadata": {},
   "outputs": [],
   "source": []
  }
 ],
 "metadata": {
  "kernelspec": {
   "display_name": "Python 3",
   "language": "python",
   "name": "python3"
  },
  "language_info": {
   "codemirror_mode": {
    "name": "ipython",
    "version": 3
   },
   "file_extension": ".py",
   "mimetype": "text/x-python",
   "name": "python",
   "nbconvert_exporter": "python",
   "pygments_lexer": "ipython3",
   "version": "3.12.1"
  }
 },
 "nbformat": 4,
 "nbformat_minor": 2
}
